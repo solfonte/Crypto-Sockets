{
  "nbformat": 4,
  "nbformat_minor": 0,
  "metadata": {
    "colab": {
      "name": "TPparte1.ipynb",
      "provenance": [],
      "collapsed_sections": [],
      "include_colab_link": true
    },
    "kernelspec": {
      "name": "python3",
      "display_name": "Python 3"
    },
    "language_info": {
      "name": "python"
    }
  },
  "cells": [
    {
      "cell_type": "markdown",
      "metadata": {
        "id": "view-in-github",
        "colab_type": "text"
      },
      "source": [
        "<a href=\"https://colab.research.google.com/github/solfonte/TP1-Taller/blob/main/TPparte1.ipynb\" target=\"_parent\"><img src=\"https://colab.research.google.com/assets/colab-badge.svg\" alt=\"Open In Colab\"/></a>"
      ]
    },
    {
      "cell_type": "markdown",
      "metadata": {
        "id": "9DKEwdjiEo30"
      },
      "source": [
        "#TP parte 1"
      ]
    },
    {
      "cell_type": "code",
      "metadata": {
        "id": "ay8sT_XqEQM3"
      },
      "source": [
        "import pandas as pd\n",
        "import numpy as np\n",
        "import requests\n",
        "from collections import Counter"
      ],
      "execution_count": 73,
      "outputs": []
    },
    {
      "cell_type": "code",
      "metadata": {
        "execution": {
          "iopub.execute_input": "2021-04-21T00:37:18.051551Z",
          "iopub.status.busy": "2021-04-21T00:37:18.051069Z",
          "iopub.status.idle": "2021-04-21T00:37:18.843042Z",
          "shell.execute_reply": "2021-04-21T00:37:18.842125Z"
        },
        "id": "9be4882a"
      },
      "source": [
        "with requests.get(\n",
        "    \"https://docs.google.com/spreadsheets/d/1-DWTP8uwVS-dZY402-dm0F9ICw_6PNqDGLmH0u8Eqa0/export?format=csv\"\n",
        ") as r, open(\"impuestos.csv\", \"wb\") as f:\n",
        "    for chunk in r.iter_content():\n",
        "        f.write(chunk)\n",
        "\n"
      ],
      "execution_count": 76,
      "outputs": []
    },
    {
      "cell_type": "markdown",
      "metadata": {
        "id": "KXQZoUFbFSUD"
      },
      "source": [
        "conversion de variables\n",
        "missing\n",
        "reduccion de dimension\n",
        "etc"
      ]
    },
    {
      "cell_type": "code",
      "metadata": {
        "execution": {
          "iopub.execute_input": "2021-04-21T00:35:44.722723Z",
          "iopub.status.busy": "2021-04-21T00:35:44.722159Z",
          "iopub.status.idle": "2021-04-21T00:35:45.142745Z",
          "shell.execute_reply": "2021-04-21T00:35:45.141849Z"
        },
        "id": "b87c5a01",
        "colab": {
          "base_uri": "https://localhost:8080/",
          "height": 224
        },
        "outputId": "8b3f1498-9b7b-43e0-bb32-5098d29200ce"
      },
      "source": [
        "df = pd.read_csv(\"impuestos.csv\")\n",
        "df.head()"
      ],
      "execution_count": 77,
      "outputs": [
        {
          "output_type": "execute_result",
          "data": {
            "text/html": [
              "<div>\n",
              "<style scoped>\n",
              "    .dataframe tbody tr th:only-of-type {\n",
              "        vertical-align: middle;\n",
              "    }\n",
              "\n",
              "    .dataframe tbody tr th {\n",
              "        vertical-align: top;\n",
              "    }\n",
              "\n",
              "    .dataframe thead th {\n",
              "        text-align: right;\n",
              "    }\n",
              "</style>\n",
              "<table border=\"1\" class=\"dataframe\">\n",
              "  <thead>\n",
              "    <tr style=\"text-align: right;\">\n",
              "      <th></th>\n",
              "      <th>anios_estudiados</th>\n",
              "      <th>barrio</th>\n",
              "      <th>categoria_de_trabajo</th>\n",
              "      <th>edad</th>\n",
              "      <th>educacion_alcanzada</th>\n",
              "      <th>estado_marital</th>\n",
              "      <th>ganancia_perdida_declarada_bolsa_argentina</th>\n",
              "      <th>genero</th>\n",
              "      <th>horas_trabajo_registradas</th>\n",
              "      <th>religion</th>\n",
              "      <th>rol_familiar_registrado</th>\n",
              "      <th>tiene_alto_valor_adquisitivo</th>\n",
              "      <th>trabajo</th>\n",
              "    </tr>\n",
              "  </thead>\n",
              "  <tbody>\n",
              "    <tr>\n",
              "      <th>0</th>\n",
              "      <td>17</td>\n",
              "      <td>Palermo</td>\n",
              "      <td>empleado_provincial</td>\n",
              "      <td>39</td>\n",
              "      <td>universidad_3_anio</td>\n",
              "      <td>sin_matrimonio</td>\n",
              "      <td>2174</td>\n",
              "      <td>hombre</td>\n",
              "      <td>40</td>\n",
              "      <td>cristianismo</td>\n",
              "      <td>sin_familia</td>\n",
              "      <td>0</td>\n",
              "      <td>entretenimiento</td>\n",
              "    </tr>\n",
              "    <tr>\n",
              "      <th>1</th>\n",
              "      <td>17</td>\n",
              "      <td>Palermo</td>\n",
              "      <td>monotibutista</td>\n",
              "      <td>50</td>\n",
              "      <td>universidad_3_anio</td>\n",
              "      <td>matrimonio_civil</td>\n",
              "      <td>0</td>\n",
              "      <td>hombre</td>\n",
              "      <td>13</td>\n",
              "      <td>cristianismo</td>\n",
              "      <td>casado</td>\n",
              "      <td>0</td>\n",
              "      <td>directivo_gerente</td>\n",
              "    </tr>\n",
              "    <tr>\n",
              "      <th>2</th>\n",
              "      <td>13</td>\n",
              "      <td>Palermo</td>\n",
              "      <td>relacion_de_dependencia</td>\n",
              "      <td>38</td>\n",
              "      <td>4_anio</td>\n",
              "      <td>divorciado</td>\n",
              "      <td>0</td>\n",
              "      <td>hombre</td>\n",
              "      <td>40</td>\n",
              "      <td>cristianismo</td>\n",
              "      <td>sin_familia</td>\n",
              "      <td>0</td>\n",
              "      <td>limpiador</td>\n",
              "    </tr>\n",
              "    <tr>\n",
              "      <th>3</th>\n",
              "      <td>11</td>\n",
              "      <td>Palermo</td>\n",
              "      <td>relacion_de_dependencia</td>\n",
              "      <td>53</td>\n",
              "      <td>2_anio</td>\n",
              "      <td>matrimonio_civil</td>\n",
              "      <td>0</td>\n",
              "      <td>hombre</td>\n",
              "      <td>40</td>\n",
              "      <td>judaismo</td>\n",
              "      <td>casado</td>\n",
              "      <td>0</td>\n",
              "      <td>limpiador</td>\n",
              "    </tr>\n",
              "    <tr>\n",
              "      <th>4</th>\n",
              "      <td>17</td>\n",
              "      <td>Balvanera</td>\n",
              "      <td>relacion_de_dependencia</td>\n",
              "      <td>28</td>\n",
              "      <td>universidad_3_anio</td>\n",
              "      <td>matrimonio_civil</td>\n",
              "      <td>0</td>\n",
              "      <td>mujer</td>\n",
              "      <td>40</td>\n",
              "      <td>judaismo</td>\n",
              "      <td>casada</td>\n",
              "      <td>0</td>\n",
              "      <td>profesional_especializado</td>\n",
              "    </tr>\n",
              "  </tbody>\n",
              "</table>\n",
              "</div>"
            ],
            "text/plain": [
              "   anios_estudiados  ...                    trabajo\n",
              "0                17  ...            entretenimiento\n",
              "1                17  ...          directivo_gerente\n",
              "2                13  ...                  limpiador\n",
              "3                11  ...                  limpiador\n",
              "4                17  ...  profesional_especializado\n",
              "\n",
              "[5 rows x 13 columns]"
            ]
          },
          "metadata": {
            "tags": []
          },
          "execution_count": 77
        }
      ]
    }
  ]
}